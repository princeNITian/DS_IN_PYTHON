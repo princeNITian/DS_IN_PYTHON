{
 "cells": [
  {
   "cell_type": "code",
   "execution_count": 9,
   "metadata": {},
   "outputs": [],
   "source": [
    "class Vertex:\n",
    "    def __init__(self, name):\n",
    "        self.name = name\n",
    "        self.node = None"
   ]
  },
  {
   "cell_type": "markdown",
   "metadata": {},
   "source": [
    "# Node for disjoint set"
   ]
  },
  {
   "cell_type": "code",
   "execution_count": 10,
   "metadata": {},
   "outputs": [],
   "source": [
    "class Node:\n",
    "    def __init__(self, height, nodeId, parentNode):\n",
    "        self.height = height\n",
    "        self.nodeId = nodeId\n",
    "        self.parentNode = parentNode"
   ]
  },
  {
   "cell_type": "markdown",
   "metadata": {},
   "source": [
    "# Edge"
   ]
  },
  {
   "cell_type": "code",
   "execution_count": 27,
   "metadata": {},
   "outputs": [],
   "source": [
    "class Edge:\n",
    "    def __init__(self, weight, startVertex, targetVertex):\n",
    "        self.weight = weight\n",
    "        self.startVertex = startVertex\n",
    "        self.targetVertex = targetVertex\n",
    "        \n",
    "    def __lt__(self, other):\n",
    "        selfPriority = self.weight\n",
    "        otherPriority = other.weight\n",
    "        return selfPriority < otherPriority"
   ]
  },
  {
   "cell_type": "markdown",
   "metadata": {},
   "source": [
    "# Disjoint Set"
   ]
  },
  {
   "cell_type": "code",
   "execution_count": 28,
   "metadata": {},
   "outputs": [],
   "source": [
    "class DisjointSet:\n",
    "    def __init__(self, vertexList):\n",
    "        self.vertexList = vertexList\n",
    "        self.rootNodes = []\n",
    "        self.nodeCount = 0\n",
    "        self.setCount = 0\n",
    "        self.makeSets(vertexList)\n",
    "        \n",
    "    def find(self, node):\n",
    "        \n",
    "        currentNode = node\n",
    "        \n",
    "        while currentNode.parentNode is not None:\n",
    "            currentNode = currentNode.parentNode\n",
    "            \n",
    "        root = currentNode\n",
    "        currentNode = node\n",
    "        \n",
    "        while currentNode is not root:\n",
    "            temp = currentNode.parentNode\n",
    "            currentNode.parentNode = root\n",
    "            currentNode = temp\n",
    "            \n",
    "        return root.nodeId\n",
    "    \n",
    "    def merge(self, node1, node2):\n",
    "        index1 = self.find(node1)\n",
    "        index2 = self.find(node2)\n",
    "        \n",
    "        if index1 == index2:\n",
    "            return; # they are in the same set\n",
    "        root1 = self.rootNodes[index1]\n",
    "        root2 = self.rootNodes[index2]\n",
    "        \n",
    "        if root1.height < root2.height:\n",
    "            root1.parentNode = root2\n",
    "        elif root1.height > root2.height:\n",
    "            root2.parentNode = root1\n",
    "        else:\n",
    "            root2.parentNode = root1\n",
    "            root1.height = root1.height + 1\n",
    "            \n",
    "    def makeSets(self, vertexList):\n",
    "        for v in vertexList:\n",
    "            self.makeSet(v)\n",
    "            \n",
    "    def makeSet(self, vertex):\n",
    "        node = Node(0,len(self.rootNodes),None)\n",
    "        vertex.node = node\n",
    "        self.rootNodes.append(node)\n",
    "        self.setCount = self.setCount + 1\n",
    "        self.nodeCount = self.nodeCount + 1\n",
    "        "
   ]
  },
  {
   "cell_type": "markdown",
   "metadata": {},
   "source": [
    "# Kruskal Algorithm"
   ]
  },
  {
   "cell_type": "code",
   "execution_count": 33,
   "metadata": {},
   "outputs": [],
   "source": [
    "class KruskalAlgorithm:\n",
    "    \n",
    "    def spanningTree(self, vertexList, edgeList):\n",
    "        \n",
    "        disjointSet = DisjointSet(vertexList)\n",
    "        spanningTree = []\n",
    "        \n",
    "        edgeList.sort()\n",
    "        \n",
    "        for edge in edgeList:\n",
    "            u = edge.startVertex\n",
    "            v = edge.targetVertex\n",
    "            \n",
    "            if disjointSet.find(u.node) is not disjointSet.find(v.node):\n",
    "                spanningTree.append(edge)\n",
    "                disjointSet.merge(u.node, v.node)\n",
    "                \n",
    "        minDistance = 0\n",
    "        for edge in spanningTree:\n",
    "            print(edge.startVertex.name,\" - \",edge.targetVertex.name,\" :\",edge.weight)\n",
    "            minDistance += edge.weight\n",
    "        print(\"Min Distance: \",minDistance)"
   ]
  },
  {
   "cell_type": "markdown",
   "metadata": {},
   "source": [
    "# Testing"
   ]
  },
  {
   "cell_type": "code",
   "execution_count": 34,
   "metadata": {},
   "outputs": [
    {
     "name": "stdout",
     "output_type": "stream",
     "text": [
      "c  -  d  : 1\n",
      "a  -  b  : 2\n",
      "c  -  f  : 2\n",
      "b  -  d  : 3\n",
      "b  -  e  : 3\n",
      "d  -  g  : 5\n",
      "Min Distance:  16\n"
     ]
    }
   ],
   "source": [
    "vertex1 = Vertex(\"a\")\n",
    "vertex2 = Vertex(\"b\")\n",
    "vertex3 = Vertex(\"c\")\n",
    "vertex4 = Vertex(\"d\")\n",
    "vertex5 = Vertex(\"e\")\n",
    "vertex6 = Vertex(\"f\")\n",
    "vertex7 = Vertex(\"g\")\n",
    "\n",
    "\n",
    "edge1 = Edge(2,vertex1,vertex2)\n",
    "edge2 = Edge(6,vertex1,vertex3)\n",
    "edge3 = Edge(5,vertex1,vertex5)\n",
    "edge4 = Edge(10,vertex1,vertex6)\n",
    "edge5 = Edge(3,vertex2,vertex4)\n",
    "edge6 = Edge(3,vertex2,vertex5)\n",
    "edge7 = Edge(1,vertex3,vertex4)\n",
    "edge8 = Edge(2,vertex3,vertex6)\n",
    "edge9 = Edge(4,vertex4,vertex5)\n",
    "edge10 = Edge(5,vertex4,vertex7)\n",
    "edge11 = Edge(5,vertex6,vertex7)\n",
    "\n",
    "vertexList = []\n",
    "vertexList.append(vertex1)\n",
    "vertexList.append(vertex2)\n",
    "vertexList.append(vertex3)\n",
    "vertexList.append(vertex4)\n",
    "vertexList.append(vertex5)\n",
    "vertexList.append(vertex6)\n",
    "vertexList.append(vertex7)\n",
    "\n",
    "edgeList = []\n",
    "edgeList.append(edge1)\n",
    "edgeList.append(edge2)\n",
    "edgeList.append(edge3)\n",
    "edgeList.append(edge4)\n",
    "edgeList.append(edge5)\n",
    "edgeList.append(edge6)\n",
    "edgeList.append(edge7)\n",
    "edgeList.append(edge8)\n",
    "edgeList.append(edge9)\n",
    "edgeList.append(edge10)\n",
    "edgeList.append(edge11)\n",
    "\n",
    "algorithm = KruskalAlgorithm()\n",
    "algorithm.spanningTree(vertexList, edgeList)"
   ]
  },
  {
   "cell_type": "code",
   "execution_count": null,
   "metadata": {},
   "outputs": [],
   "source": []
  }
 ],
 "metadata": {
  "kernelspec": {
   "display_name": "Python 3",
   "language": "python",
   "name": "python3"
  },
  "language_info": {
   "codemirror_mode": {
    "name": "ipython",
    "version": 3
   },
   "file_extension": ".py",
   "mimetype": "text/x-python",
   "name": "python",
   "nbconvert_exporter": "python",
   "pygments_lexer": "ipython3",
   "version": "3.7.5"
  }
 },
 "nbformat": 4,
 "nbformat_minor": 4
}
