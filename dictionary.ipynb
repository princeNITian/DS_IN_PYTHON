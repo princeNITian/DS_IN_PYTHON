{
 "cells": [
  {
   "cell_type": "code",
   "execution_count": 14,
   "metadata": {},
   "outputs": [
    {
     "name": "stdout",
     "output_type": "stream",
     "text": [
      "23\n",
      "24\n",
      "dict_items([('prince', 24), ('raj', 11), ('aryan', 33)])\n",
      "dict_keys(['prince', 'raj', 'aryan'])\n",
      "dict_values([24, 11, 33])\n",
      "{'prince': 24, 'raj': 11, 'aryan': 33}\n"
     ]
    }
   ],
   "source": [
    "dict = { 'prince': 23, 'raj': 11, 'aryan': 33}\n",
    "\n",
    "print(dict['prince'])\n",
    "\n",
    "dict['prince'] = 24\n",
    "\n",
    "print(dict['prince'])\n",
    "\n",
    "# dict.clear()\n",
    "# del dict\n",
    "\n",
    "print(dict.items())\n",
    "print(dict.keys())\n",
    "print(dict.values())\n",
    "print(dict)"
   ]
  },
  {
   "cell_type": "code",
   "execution_count": null,
   "metadata": {},
   "outputs": [],
   "source": []
  }
 ],
 "metadata": {
  "kernelspec": {
   "display_name": "Python 3",
   "language": "python",
   "name": "python3"
  },
  "language_info": {
   "codemirror_mode": {
    "name": "ipython",
    "version": 3
   },
   "file_extension": ".py",
   "mimetype": "text/x-python",
   "name": "python",
   "nbconvert_exporter": "python",
   "pygments_lexer": "ipython3",
   "version": "3.7.5"
  }
 },
 "nbformat": 4,
 "nbformat_minor": 4
}
