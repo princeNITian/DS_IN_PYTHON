{
 "cells": [
  {
   "cell_type": "markdown",
   "metadata": {},
   "source": [
    "# Vertex"
   ]
  },
  {
   "cell_type": "code",
   "execution_count": 1,
   "metadata": {},
   "outputs": [],
   "source": [
    "class Node:\n",
    "    def __init__(self, name):\n",
    "        self.name = name\n",
    "        self.adjacencyList = []\n",
    "        self.visited = False\n",
    "        self.predecessor = None"
   ]
  },
  {
   "cell_type": "markdown",
   "metadata": {},
   "source": [
    "# DFS Implementation"
   ]
  },
  {
   "cell_type": "code",
   "execution_count": 2,
   "metadata": {},
   "outputs": [],
   "source": [
    "class DFS:\n",
    "    def dfs(self, startNode):\n",
    "        startNode.visited = True\n",
    "        \n",
    "        print(\"%s \"% startNode.name)\n",
    "        \n",
    "        for v in startNode.adjacencyList:\n",
    "            if not v.visited:\n",
    "                self.dfs(v)"
   ]
  },
  {
   "cell_type": "markdown",
   "metadata": {},
   "source": [
    "# Testing"
   ]
  },
  {
   "cell_type": "code",
   "execution_count": 3,
   "metadata": {},
   "outputs": [
    {
     "name": "stdout",
     "output_type": "stream",
     "text": [
      "A \n",
      "B \n",
      "D \n",
      "E \n",
      "C \n"
     ]
    }
   ],
   "source": [
    "node1 = Node(\"A\")\n",
    "node2 = Node(\"B\")\n",
    "node3 = Node(\"C\")\n",
    "node4 = Node(\"D\")\n",
    "node5 = Node(\"E\")\n",
    "\n",
    "node1.adjacencyList.append(node2)\n",
    "node1.adjacencyList.append(node3)\n",
    "node2.adjacencyList.append(node4)\n",
    "node4.adjacencyList.append(node5)\n",
    "\n",
    "dfs = DFS()\n",
    "dfs.dfs(node1)"
   ]
  },
  {
   "cell_type": "code",
   "execution_count": null,
   "metadata": {},
   "outputs": [],
   "source": []
  }
 ],
 "metadata": {
  "kernelspec": {
   "display_name": "Python 3",
   "language": "python",
   "name": "python3"
  },
  "language_info": {
   "codemirror_mode": {
    "name": "ipython",
    "version": 3
   },
   "file_extension": ".py",
   "mimetype": "text/x-python",
   "name": "python",
   "nbconvert_exporter": "python",
   "pygments_lexer": "ipython3",
   "version": "3.7.5"
  }
 },
 "nbformat": 4,
 "nbformat_minor": 4
}
