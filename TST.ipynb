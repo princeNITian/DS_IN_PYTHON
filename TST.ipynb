{
 "cells": [
  {
   "cell_type": "markdown",
   "metadata": {},
   "source": [
    "# Node"
   ]
  },
  {
   "cell_type": "code",
   "execution_count": 7,
   "metadata": {},
   "outputs": [],
   "source": [
    "class Node:\n",
    "    \n",
    "    def __init__(self, character):\n",
    "        self.character = character\n",
    "        self.leftNode = None\n",
    "        self.middleNode = None\n",
    "        self.rightNode = None\n",
    "        self.value = 0"
   ]
  },
  {
   "cell_type": "markdown",
   "metadata": {},
   "source": [
    "# Ternary Search Tree Implementation"
   ]
  },
  {
   "cell_type": "code",
   "execution_count": 8,
   "metadata": {},
   "outputs": [],
   "source": [
    "class TST:\n",
    "    \n",
    "    def __init__(self):\n",
    "        self.rootNode = None\n",
    "        \n",
    "    def put(self, key, value):\n",
    "        self.rootNode = self.putItem(self.rootNode, key, value, 0)\n",
    "        \n",
    "    def putItem(self, node , key, value, index):\n",
    "        \n",
    "        c = key[index]\n",
    "        \n",
    "        if node == None:\n",
    "            node = Node(c)\n",
    "            \n",
    "        if c < node.character:\n",
    "            node.leftNode = self.putItem(node.leftNode, key, value, index)\n",
    "        elif c > node.character:\n",
    "            node.rightNode = self.putItem(node.rightNode, key, value, index)\n",
    "        elif index < len(key) - 1:\n",
    "            node.middleNode = self.putItem(node.middleNode, key, value, index+1)\n",
    "        else:\n",
    "            node.value = value\n",
    "            \n",
    "        return node\n",
    "        \n",
    "    def get(self, key):\n",
    "        node = self.getItem(self.rootNode, key, 0)\n",
    "        \n",
    "        if node == None:\n",
    "            return -1\n",
    "        \n",
    "        return node.value\n",
    "    \n",
    "    def getItem(self, node, key, index):\n",
    "        if node == None:\n",
    "            return None\n",
    "        \n",
    "        c = key[index]\n",
    "        \n",
    "        if c < node.character:\n",
    "            return self.getItem(node.leftNode, key, index)\n",
    "        elif c > node.character:\n",
    "            return self.getItem(node.rightNode, key, index)\n",
    "        elif index < len(key) - 1:\n",
    "            return self.getItem(node.middleNode, key, index+1)\n",
    "        else:\n",
    "            return node"
   ]
  },
  {
   "cell_type": "markdown",
   "metadata": {},
   "source": [
    "# Testing"
   ]
  },
  {
   "cell_type": "code",
   "execution_count": 15,
   "metadata": {},
   "outputs": [
    {
     "name": "stdout",
     "output_type": "stream",
     "text": [
      "200\n",
      "-1\n"
     ]
    }
   ],
   "source": [
    "if __name__ == \"__main__\":\n",
    "    tst = TST()\n",
    "    tst.put(\"apple\",100)\n",
    "    tst.put(\"orange\",200)\n",
    "    print(tst.get(\"orange\"))\n",
    "    print(tst.get(\"applr\"))"
   ]
  },
  {
   "cell_type": "code",
   "execution_count": null,
   "metadata": {},
   "outputs": [],
   "source": []
  }
 ],
 "metadata": {
  "kernelspec": {
   "display_name": "Python 3",
   "language": "python",
   "name": "python3"
  },
  "language_info": {
   "codemirror_mode": {
    "name": "ipython",
    "version": 3
   },
   "file_extension": ".py",
   "mimetype": "text/x-python",
   "name": "python",
   "nbconvert_exporter": "python",
   "pygments_lexer": "ipython3",
   "version": "3.7.5"
  }
 },
 "nbformat": 4,
 "nbformat_minor": 4
}
