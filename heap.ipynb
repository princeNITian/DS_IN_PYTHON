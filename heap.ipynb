{
 "cells": [
  {
   "cell_type": "markdown",
   "metadata": {},
   "source": [
    "# Heap"
   ]
  },
  {
   "cell_type": "code",
   "execution_count": 6,
   "metadata": {},
   "outputs": [],
   "source": [
    "class Heap:\n",
    "    HEAP_SIZE = 10\n",
    "    \n",
    "    def __init__(self):\n",
    "        self.heap = [0]*Heap.HEAP_SIZE\n",
    "        self.currentPosition = -1\n",
    "    \n",
    "    def insert(self, item):\n",
    "        \n",
    "        if self.isFull():\n",
    "            print(\"Heap is Full..\")\n",
    "            return\n",
    "        self.currentPosition += 1\n",
    "        self.heap[self.currentPosition] = item\n",
    "        self.fixUp(self.currentPosition)\n",
    "        \n",
    "    def fixUp(self, index):\n",
    "        parentIndex = int((index-1)/2)\n",
    "        \n",
    "        while parentIndex >= 0 and self.heap[parentIndex] < self.heap[index]:\n",
    "            temp = self.heap[index]\n",
    "            self.heap[index] = self.heap[parentIndex]\n",
    "            self.heap[parentIndex] = temp\n",
    "            parentIndex = (int) ((index-1)/2)\n",
    "        \n",
    "    def isFull(self):\n",
    "        if self.currentPosition == Heap.HEAP_SIZE:\n",
    "            return True\n",
    "        else:\n",
    "            return False\n",
    "        \n",
    "    def heapsort(self):\n",
    "        \n",
    "        for i in range(0,self.currentPosition+1):\n",
    "            temp = self.heap[0]\n",
    "            print(\"%d \" % temp)\n",
    "            self.heap[0] = self.heap[self.currentPosition-i]\n",
    "            self.heap[self.currentPosition-i] = temp\n",
    "            self.fixDown(0, self.currentPosition-i-1)\n",
    "            \n",
    "    def fixDown(self, index, upto):\n",
    "        \n",
    "        while index <= upto:\n",
    "            leftChild = 2*index + 1\n",
    "            rightChild = 2*index + 2\n",
    "            \n",
    "            if leftChild < upto:\n",
    "                childToSwap = None\n",
    "                \n",
    "                if rightChild > upto:\n",
    "                    childToSwap = leftChild\n",
    "                else:\n",
    "                    if self.heap[leftChild] > self.heap[rightChild]:\n",
    "                        childToSwap = leftChild\n",
    "                    else:\n",
    "                        childToSwap = rightChild\n",
    "                if self.heap[index] < self.heap[childToSwap]:\n",
    "                    temp = self.heap[index]\n",
    "                    self.heap[index] = self.heap[childToSwap]\n",
    "                    self.heap[childToSwap] = temp\n",
    "                else:\n",
    "                    break\n",
    "                index = childToSwap\n",
    "            else:\n",
    "                break\n",
    "        "
   ]
  },
  {
   "cell_type": "markdown",
   "metadata": {},
   "source": [
    "# Testing"
   ]
  },
  {
   "cell_type": "code",
   "execution_count": 8,
   "metadata": {},
   "outputs": [
    {
     "name": "stdout",
     "output_type": "stream",
     "text": [
      "40 \n",
      "30 \n",
      "10 \n",
      "-20 \n"
     ]
    }
   ],
   "source": [
    "if __name__==\"__main__\":\n",
    "    heap = Heap()\n",
    "    heap.insert(10)\n",
    "    heap.insert(-20)\n",
    "    heap.insert(40)\n",
    "    heap.insert(30)\n",
    "    heap.heapsort()"
   ]
  },
  {
   "cell_type": "code",
   "execution_count": null,
   "metadata": {},
   "outputs": [],
   "source": []
  }
 ],
 "metadata": {
  "kernelspec": {
   "display_name": "Python 3",
   "language": "python",
   "name": "python3"
  },
  "language_info": {
   "codemirror_mode": {
    "name": "ipython",
    "version": 3
   },
   "file_extension": ".py",
   "mimetype": "text/x-python",
   "name": "python",
   "nbconvert_exporter": "python",
   "pygments_lexer": "ipython3",
   "version": "3.7.5"
  }
 },
 "nbformat": 4,
 "nbformat_minor": 4
}
