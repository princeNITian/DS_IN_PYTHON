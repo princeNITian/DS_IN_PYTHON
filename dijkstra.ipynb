{
 "cells": [
  {
   "cell_type": "code",
   "execution_count": 1,
   "metadata": {},
   "outputs": [],
   "source": [
    "import sys\n",
    "import heapq"
   ]
  },
  {
   "cell_type": "markdown",
   "metadata": {},
   "source": [
    "# Edge"
   ]
  },
  {
   "cell_type": "code",
   "execution_count": 2,
   "metadata": {},
   "outputs": [],
   "source": [
    "class Edge:\n",
    "    def __init__(self, weight, startVertex, targetVertex):\n",
    "        self.weight = weight\n",
    "        self.startVertex = startVertex\n",
    "        self.targetVertex = targetVertex"
   ]
  },
  {
   "cell_type": "markdown",
   "metadata": {},
   "source": [
    "# Vertex"
   ]
  },
  {
   "cell_type": "code",
   "execution_count": 18,
   "metadata": {},
   "outputs": [],
   "source": [
    "class Node:\n",
    "    def __init__(self, name):\n",
    "        self.name = name\n",
    "        self.visited = False\n",
    "        self.predecessor = None\n",
    "        self.adjacencyList = []\n",
    "        self.minDistance = sys.maxsize\n",
    "        \n",
    "#     def __cmp__(self,otherVertex):\n",
    "#         return self.cmp(self.minDistance, otherVertex.minDistance)\n",
    "    \n",
    "    def __lt__(self,other):\n",
    "        selfPriority = self.minDistance\n",
    "        otherPriority = other.minDistance\n",
    "        return selfPriority < otherPriority\n",
    "        "
   ]
  },
  {
   "cell_type": "markdown",
   "metadata": {},
   "source": [
    "# Dijkstra's Algorithm"
   ]
  },
  {
   "cell_type": "code",
   "execution_count": 19,
   "metadata": {},
   "outputs": [],
   "source": [
    "class Algorithm:\n",
    "    \n",
    "    def calculateShortestPath(self,startVertex):\n",
    "        q = []\n",
    "        startVertex.minDistance = 0\n",
    "        \n",
    "        heapq.heappush(q,startVertex)\n",
    "        \n",
    "        while len(q)>0 :\n",
    "            \n",
    "            actualVertex = heapq.heappop(q)\n",
    "            \n",
    "            for edge in actualVertex.adjacencyList:\n",
    "                u = edge.startVertex\n",
    "                v = edge.targetVertex\n",
    "                newDistance = u.minDistance + edge.weight\n",
    "                \n",
    "                if newDistance < v.minDistance:\n",
    "                    v.predecessor = u\n",
    "                    v.minDistance = newDistance\n",
    "                    heapq.heappush(q,v)\n",
    "                    \n",
    "    def getShortestPathTo(self,targetVertex):\n",
    "        print(\"Shortest Path to Vertex is: \", targetVertex.minDistance)\n",
    "        node = targetVertex\n",
    "        while node is not None:\n",
    "            print(\"%s \" % node.name)\n",
    "            node = node.predecessor\n",
    "                    "
   ]
  },
  {
   "cell_type": "markdown",
   "metadata": {},
   "source": [
    "# Testing"
   ]
  },
  {
   "cell_type": "code",
   "execution_count": 24,
   "metadata": {},
   "outputs": [
    {
     "name": "stdout",
     "output_type": "stream",
     "text": [
      "Shortest Path to Vertex is:  17\n",
      "D \n",
      "C \n",
      "F \n",
      "E \n",
      "A \n"
     ]
    }
   ],
   "source": [
    "node1 = Node(\"A\")\n",
    "node2 = Node(\"B\")\n",
    "node3 = Node(\"C\")\n",
    "node4 = Node(\"D\")\n",
    "node5 = Node(\"E\")\n",
    "node6 = Node(\"F\")\n",
    "node7 = Node(\"G\")\n",
    "node8 = Node(\"H\")\n",
    "\n",
    "edge1 = Edge(5,node1,node2)\n",
    "edge2 = Edge(8,node1,node8)\n",
    "edge3 = Edge(9,node1,node5)\n",
    "edge4 = Edge(15,node2,node4)\n",
    "edge5 = Edge(12,node2,node3)\n",
    "edge6 = Edge(4,node2,node8)\n",
    "edge7 = Edge(7,node8,node3)\n",
    "edge8 = Edge(6,node8,node6)\n",
    "edge9 = Edge(5,node5,node8)\n",
    "edge10 = Edge(4,node5,node6)\n",
    "edge11 = Edge(20,node5,node7)\n",
    "edge12 = Edge(1,node6,node3)\n",
    "edge13 = Edge(13,node6,node7)\n",
    "edge14 = Edge(3,node3,node4)\n",
    "edge15 = Edge(11,node3,node7)\n",
    "edge16 = Edge(9,node4,node7)\n",
    "\n",
    "node1.adjacencyList.append(edge1)\n",
    "node1.adjacencyList.append(edge2)\n",
    "node1.adjacencyList.append(edge3)\n",
    "node2.adjacencyList.append(edge4)\n",
    "node2.adjacencyList.append(edge5)\n",
    "node2.adjacencyList.append(edge6)\n",
    "node8.adjacencyList.append(edge7)\n",
    "node8.adjacencyList.append(edge8)\n",
    "node5.adjacencyList.append(edge9)\n",
    "node5.adjacencyList.append(edge10)\n",
    "node5.adjacencyList.append(edge11)\n",
    "node6.adjacencyList.append(edge12)\n",
    "node6.adjacencyList.append(edge13)\n",
    "node3.adjacencyList.append(edge14)\n",
    "node3.adjacencyList.append(edge15)\n",
    "node4.adjacencyList.append(edge16)\n",
    "\n",
    "# vertexList = (node1,node2,node3,node4,node5,node6,node7,node8)\n",
    "\n",
    "algorithm = Algorithm()\n",
    "algorithm.calculateShortestPath(node1)\n",
    "algorithm.getShortestPathTo(node4)"
   ]
  },
  {
   "cell_type": "code",
   "execution_count": null,
   "metadata": {},
   "outputs": [],
   "source": []
  }
 ],
 "metadata": {
  "kernelspec": {
   "display_name": "Python 3",
   "language": "python",
   "name": "python3"
  },
  "language_info": {
   "codemirror_mode": {
    "name": "ipython",
    "version": 3
   },
   "file_extension": ".py",
   "mimetype": "text/x-python",
   "name": "python",
   "nbconvert_exporter": "python",
   "pygments_lexer": "ipython3",
   "version": "3.7.5"
  }
 },
 "nbformat": 4,
 "nbformat_minor": 4
}
