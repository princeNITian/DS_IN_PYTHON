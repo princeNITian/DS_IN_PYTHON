{
 "cells": [
  {
   "cell_type": "code",
   "execution_count": 5,
   "metadata": {},
   "outputs": [],
   "source": [
    "import heapq"
   ]
  },
  {
   "cell_type": "markdown",
   "metadata": {},
   "source": [
    "# Vertex"
   ]
  },
  {
   "cell_type": "code",
   "execution_count": 6,
   "metadata": {},
   "outputs": [],
   "source": [
    "class Vertex:\n",
    "    def __init__(self, name):\n",
    "        self.name = name\n",
    "        self.visited = False\n",
    "        self.adjacencyList = []\n",
    "        self.predecessor = None\n",
    "        \n",
    "        \n",
    "    def __str__(self):\n",
    "        return self.name\n",
    "    "
   ]
  },
  {
   "cell_type": "markdown",
   "metadata": {},
   "source": [
    "# Edge"
   ]
  },
  {
   "cell_type": "code",
   "execution_count": 11,
   "metadata": {},
   "outputs": [],
   "source": [
    "class Edge:\n",
    "    def __init__(self, weight, startVertex, targetVertex):\n",
    "        self.weight = weight\n",
    "        self.startVertex = startVertex\n",
    "        self.targetVertex = targetVertex\n",
    "        \n",
    "    def __lt__(self,other):\n",
    "        selfPriority = self.weight\n",
    "        otherPriority = other.weight\n",
    "        return selfPriority < otherPriority\n",
    "    "
   ]
  },
  {
   "cell_type": "markdown",
   "metadata": {},
   "source": [
    "# Prim's Jarnik Algorithm"
   ]
  },
  {
   "cell_type": "code",
   "execution_count": 17,
   "metadata": {},
   "outputs": [],
   "source": [
    "class PrimsJarnik:\n",
    "    \n",
    "    def __init__(self,unvisitedList):\n",
    "        self.unvisitedList = unvisitedList\n",
    "        self.spanningTree = []\n",
    "        self.edgeHeap = []\n",
    "        self.fullCost = 0\n",
    "        \n",
    "    def calculateSpanningTree(self, vertex):\n",
    "        \n",
    "        self.unvisitedList.remove(vertex)\n",
    "        \n",
    "        while self.unvisitedList:\n",
    "            \n",
    "            for edge in vertex.adjacencyList:\n",
    "                if edge.targetVertex in self.unvisitedList:\n",
    "                    heapq.heappush(self.edgeHeap, edge)\n",
    "                    \n",
    "            minEdge = heapq.heappop(self.edgeHeap)\n",
    "            self.spanningTree.append(minEdge)\n",
    "            print(\"Edge added to spanning tree %s - %s\" % (minEdge.startVertex.name, minEdge.targetVertex.name))\n",
    "            self.fullCost = self.fullCost + minEdge.weight\n",
    "            \n",
    "            vertex = minEdge.targetVertex\n",
    "            self.unvisitedList.remove(vertex)\n",
    "            \n",
    "    def getSpanningTree(self):\n",
    "        return self.spanningTree"
   ]
  },
  {
   "cell_type": "markdown",
   "metadata": {},
   "source": [
    "# Testing"
   ]
  },
  {
   "cell_type": "code",
   "execution_count": 18,
   "metadata": {},
   "outputs": [
    {
     "name": "stdout",
     "output_type": "stream",
     "text": [
      "Edge added to spanning tree A - B\n",
      "Edge added to spanning tree B - C\n"
     ]
    }
   ],
   "source": [
    "node1 = Vertex(\"A\")\n",
    "node2 = Vertex(\"B\")\n",
    "node3 = Vertex(\"C\")\n",
    "\n",
    "edge1 = Edge(100,node1,node2)\n",
    "edge2 = Edge(100,node2,node1)\n",
    "edge3 = Edge(1000,node1,node3)\n",
    "edge4 = Edge(1000,node3,node1)\n",
    "edge5 = Edge(0.01,node3,node2)\n",
    "edge6 = Edge(0.01,node2,node3)\n",
    "\n",
    "node1.adjacencyList.append(edge1)\n",
    "node1.adjacencyList.append(edge3)\n",
    "node2.adjacencyList.append(edge2)\n",
    "node2.adjacencyList.append(edge6)\n",
    "node3.adjacencyList.append(edge4)\n",
    "node3.adjacencyList.append(edge5)\n",
    "\n",
    "unvisitedList = []\n",
    "unvisitedList.append(node1)\n",
    "unvisitedList.append(node2)\n",
    "unvisitedList.append(node3)\n",
    "\n",
    "algorithm = PrimsJarnik(unvisitedList)\n",
    "algorithm.calculateSpanningTree(node1)\n"
   ]
  },
  {
   "cell_type": "code",
   "execution_count": null,
   "metadata": {},
   "outputs": [],
   "source": []
  }
 ],
 "metadata": {
  "kernelspec": {
   "display_name": "Python 3",
   "language": "python",
   "name": "python3"
  },
  "language_info": {
   "codemirror_mode": {
    "name": "ipython",
    "version": 3
   },
   "file_extension": ".py",
   "mimetype": "text/x-python",
   "name": "python",
   "nbconvert_exporter": "python",
   "pygments_lexer": "ipython3",
   "version": "3.7.5"
  }
 },
 "nbformat": 4,
 "nbformat_minor": 4
}
